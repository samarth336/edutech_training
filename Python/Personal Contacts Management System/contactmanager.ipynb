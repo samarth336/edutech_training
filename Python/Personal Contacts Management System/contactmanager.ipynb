{
 "cells": [
  {
   "cell_type": "code",
   "execution_count": 2,
   "metadata": {},
   "outputs": [
    {
     "name": "stdout",
     "output_type": "stream",
     "text": [
      "Collecting pymysql\n",
      "  Using cached PyMySQL-1.1.1-py3-none-any.whl.metadata (4.4 kB)\n",
      "Using cached PyMySQL-1.1.1-py3-none-any.whl (44 kB)\n",
      "Installing collected packages: pymysql\n",
      "Successfully installed pymysql-1.1.1\n",
      "Note: you may need to restart the kernel to use updated packages.\n"
     ]
    }
   ],
   "source": [
    "pip install pymysql\n"
   ]
  },
  {
   "cell_type": "code",
   "execution_count": 3,
   "metadata": {},
   "outputs": [],
   "source": [
    "import pymysql"
   ]
  },
  {
   "cell_type": "code",
   "execution_count": 5,
   "metadata": {},
   "outputs": [],
   "source": [
    "conn=pymysql.connect(host=\"localhost\",user='root',password='2024')"
   ]
  },
  {
   "cell_type": "code",
   "execution_count": 26,
   "metadata": {},
   "outputs": [
    {
     "name": "stdout",
     "output_type": "stream",
     "text": [
      "('contacts_db',)\n",
      "('information_schema',)\n",
      "('movie',)\n",
      "('mysql',)\n",
      "('newdatabase',)\n",
      "('performance_schema',)\n",
      "('sakila',)\n",
      "('student',)\n",
      "('sys',)\n",
      "('world',)\n"
     ]
    }
   ],
   "source": [
    "cur=conn.cursor()\n",
    "a=cur.execute('show databases')\n",
    "for x in cur:\n",
    "    print(x)"
   ]
  },
  {
   "cell_type": "code",
   "execution_count": 12,
   "metadata": {},
   "outputs": [
    {
     "data": {
      "text/plain": [
       "1"
      ]
     },
     "execution_count": 12,
     "metadata": {},
     "output_type": "execute_result"
    }
   ],
   "source": [
    "cur.execute(\n",
    "''' CREATE DATABASE contacts_db\n",
    "'''\n",
    ")"
   ]
  },
  {
   "cell_type": "code",
   "execution_count": 13,
   "metadata": {},
   "outputs": [
    {
     "data": {
      "text/plain": [
       "0"
      ]
     },
     "execution_count": 13,
     "metadata": {},
     "output_type": "execute_result"
    }
   ],
   "source": [
    "cur.execute(\n",
    "    'use contacts_db'\n",
    ")"
   ]
  },
  {
   "cell_type": "code",
   "execution_count": 15,
   "metadata": {},
   "outputs": [
    {
     "data": {
      "text/plain": [
       "0"
      ]
     },
     "execution_count": 15,
     "metadata": {},
     "output_type": "execute_result"
    }
   ],
   "source": [
    "cur.execute('''\n",
    "    CREATE TABLE IF NOT EXISTS contacts (\n",
    "        id INT AUTO_INCREMENT PRIMARY KEY,\n",
    "        name VARCHAR(100) NOT NULL,\n",
    "        phone VARCHAR(15) NOT NULL,\n",
    "        email VARCHAR(100)\n",
    "    )\n",
    "''')"
   ]
  },
  {
   "cell_type": "code",
   "execution_count": 29,
   "metadata": {},
   "outputs": [
    {
     "name": "stdout",
     "output_type": "stream",
     "text": [
      "('contacts',)\n"
     ]
    }
   ],
   "source": [
    "cur.execute('show tables')\n",
    "for x in cur:\n",
    "    print(x)"
   ]
  },
  {
   "cell_type": "code",
   "execution_count": 39,
   "metadata": {},
   "outputs": [
    {
     "data": {
      "text/plain": [
       "20"
      ]
     },
     "execution_count": 39,
     "metadata": {},
     "output_type": "execute_result"
    }
   ],
   "source": [
    "cur.execute('''\n",
    "insert into contacts (name,phone,email)\n",
    "values\n",
    "('Samarth', '9876543210', 'sam123@gmail.com'),\n",
    "('Aarav', '9123456789', 'aarav@mail.com'),\n",
    "('Ishaan', '9234567890', 'ishaan@mail.com'),\n",
    "('Neha', '9345678901', 'neha@mail.com'),\n",
    "('Rohan', '9456789012', 'rohan@mail.com'),\n",
    "('Ananya', '9567890123', 'ananya@mail.com'),\n",
    "('Vikram', '9678901234', 'vikram@mail.com'),\n",
    "('Pooja', '9789012345', 'pooja@mail.com'),\n",
    "('Rahul', '9890123456', 'rahul@mail.com'),\n",
    "('Sneha', '9901234567', 'sneha@mail.com'),\n",
    "('Aryan', '9012345678', 'aryan@mail.com'),\n",
    "('Meera', '9123456780', 'meera@mail.com'),\n",
    "('Karan', '9234567891', 'karan@mail.com'),\n",
    "('Simran', '9345678902', 'simran@mail.com'),\n",
    "('Aditya', '9456789013', 'aditya@mail.com'),\n",
    "('Tanvi', '9567890124', 'tanvi@mail.com'),\n",
    "('Kabir', '9678901235', 'kabir@mail.com'),\n",
    "('Nisha', '9789012346', 'nisha@mail.com'),\n",
    "('Dev', '9890123457', 'dev@mail.com'),\n",
    "('Riya', '9901234568', 'riya@mail.com');\n",
    "''')"
   ]
  },
  {
   "cell_type": "code",
   "execution_count": 38,
   "metadata": {},
   "outputs": [
    {
     "name": "stdout",
     "output_type": "stream",
     "text": [
      "(1, 'Samarth', '9876543210', 'sam123@gmail.com')\n",
      "(2, 'Aarav', '9123456789', 'aarav@mail.com')\n",
      "(3, 'Ishaan', '9234567890', 'ishaan@mail.com')\n",
      "(4, 'Neha', '9345678901', 'neha@mail.com')\n",
      "(5, 'Rohan', '9456789012', 'rohan@mail.com')\n",
      "(6, 'Ananya', '9567890123', 'ananya@mail.com')\n",
      "(7, 'Vikram', '9678901234', 'vikram@mail.com')\n",
      "(8, 'Pooja', '9789012345', 'pooja@mail.com')\n",
      "(9, 'Rahul', '9890123456', 'rahul@mail.com')\n",
      "(10, 'Sneha', '9901234567', 'sneha@mail.com')\n",
      "(11, 'Aryan', '9012345678', 'aryan@mail.com')\n",
      "(12, 'Meera', '9123456780', 'meera@mail.com')\n",
      "(13, 'Karan', '9234567891', 'karan@mail.com')\n",
      "(14, 'Simran', '9345678902', 'simran@mail.com')\n",
      "(15, 'Aditya', '9456789013', 'aditya@mail.com')\n",
      "(16, 'Tanvi', '9567890124', 'tanvi@mail.com')\n",
      "(17, 'Kabir', '9678901235', 'kabir@mail.com')\n",
      "(18, 'Nisha', '9789012346', 'nisha@mail.com')\n",
      "(19, 'Dev', '9890123457', 'dev@mail.com')\n",
      "(20, 'Riya', '9901234568', 'riya@mail.com')\n"
     ]
    }
   ],
   "source": [
    "cur.execute('select * from contacts')\n",
    "for i in cur:\n",
    "    print(i)"
   ]
  }
 ],
 "metadata": {
  "kernelspec": {
   "display_name": "Python 3",
   "language": "python",
   "name": "python3"
  },
  "language_info": {
   "codemirror_mode": {
    "name": "ipython",
    "version": 3
   },
   "file_extension": ".py",
   "mimetype": "text/x-python",
   "name": "python",
   "nbconvert_exporter": "python",
   "pygments_lexer": "ipython3",
   "version": "3.12.7"
  }
 },
 "nbformat": 4,
 "nbformat_minor": 2
}
