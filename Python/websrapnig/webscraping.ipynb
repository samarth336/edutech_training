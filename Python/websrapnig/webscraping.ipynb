{
 "cells": [
  {
   "cell_type": "code",
   "execution_count": 1,
   "metadata": {},
   "outputs": [
    {
     "name": "stdout",
     "output_type": "stream",
     "text": [
      "Requirement already satisfied: requests in d:\\anaconda data\\lib\\site-packages (2.32.3)Note: you may need to restart the kernel to use updated packages.\n",
      "\n",
      "Requirement already satisfied: charset-normalizer<4,>=2 in d:\\anaconda data\\lib\\site-packages (from requests) (3.3.2)\n",
      "Requirement already satisfied: idna<4,>=2.5 in d:\\anaconda data\\lib\\site-packages (from requests) (3.7)\n",
      "Requirement already satisfied: urllib3<3,>=1.21.1 in d:\\anaconda data\\lib\\site-packages (from requests) (2.2.3)\n",
      "Requirement already satisfied: certifi>=2017.4.17 in d:\\anaconda data\\lib\\site-packages (from requests) (2024.8.30)\n"
     ]
    }
   ],
   "source": [
    "pip install requests\n"
   ]
  },
  {
   "cell_type": "code",
   "execution_count": 2,
   "metadata": {},
   "outputs": [
    {
     "name": "stdout",
     "output_type": "stream",
     "text": [
      "Requirement already satisfied: Beautifulsoup4 in d:\\anaconda data\\lib\\site-packages (4.12.3)\n",
      "Requirement already satisfied: soupsieve>1.2 in d:\\anaconda data\\lib\\site-packages (from Beautifulsoup4) (2.5)\n",
      "Note: you may need to restart the kernel to use updated packages.\n"
     ]
    }
   ],
   "source": [
    "pip install Beautifulsoup4"
   ]
  },
  {
   "cell_type": "code",
   "execution_count": 1,
   "metadata": {},
   "outputs": [],
   "source": [
    "import requests\n",
    "from bs4 import BeautifulSoup\n"
   ]
  },
  {
   "cell_type": "code",
   "execution_count": 7,
   "metadata": {},
   "outputs": [
    {
     "name": "stdout",
     "output_type": "stream",
     "text": [
      "Latest news of BBC News Headlines:\n",
      "British Broadcasting Corporation\n",
      "Home\n",
      "Sport\n",
      "Video\n",
      "Weather\n",
      "Newsletters\n",
      "Germany's conservatives celebrate, but far right enjoy record resultFriedrich Merz will try to form a coalition after his Christian Democrats won less than 30% of the vote.5 hrs agoEurope\n",
      "New German leader signals seismic shift in transatlantic relationsFriedrich Merz wasted no time in heralding a new era for Europe, and one without the US as a key partner, writes Europe editor Katya Adler.Just nowEurope\n",
      "Zelensky willing to give up presidency in exchange for Nato membershipIn response to a question, the Ukrainian president said he would give up his position for peace.14 hrs agoEurope\n",
      "NZ minister resigns after he 'placed hand' on staff's armThe incident last week comes months after he allegedly called his staff a \"loser\".45 mins agoAsia\n",
      "British couple in their 70s arrested by TalibanPeter and Barbie Reynolds were returning to their home in Bamiyan on 1 February when they were detained.11 hrs agoAsia\n",
      "New German leader signals seismic shift in transatlantic relationsFriedrich Merz wasted no time in heralding a new era for Europe, and one without the US as a key partner, writes Europe editor Katya Adler.Just nowEurope\n",
      "Is the downfall of a Japanese star a turning point for women's rights?The downfall of Masahiro Nakai is a marked departure from how Japan treats claims of sexual violence.6 hrs agoAsia\n",
      "Three years on, Ukraine's extinction nightmare has returnedThree years on from Russia's invasion of Ukraine, the return of Donald Trump has changed everything6 hrs agoBBC InDepth\n",
      "Why a mega river-linking plan has sparked massive protests in IndiaThe project aims to channel surplus Ken river water to a drought-prone region.4 hrs agoAsia\n",
      "Zelensky willing to give up presidency in exchange for Nato membershipIn response to a question, the Ukrainian president said he would give up his position for peace.14 hrs agoEurope\n",
      "The unseen map that promised to bring peace to the Middle East5 hrs agoMiddle East\n",
      "Trump names right-wing commentator Dan Bongino as deputy FBI director 4 hrs agoUS & Canada\n",
      "The SAG Awards red carpet in pictures5 hrs agoCulture\n",
      "John Simpson: 2025 could be year for the history books as Trump shreds global norms18 hrs agoUS & Canada\n",
      "Pope Francis remains 'critical' and has kidney problem, Vatican says11 hrs agoEurope\n",
      "Love, loss and duty: Ukraine's photojournalists share stories of warMoving accounts of some of the men and women behind the striking images that have encapsulated the war.6 hrs agoEurope\n",
      "Double lung transplant means couple can dance againJohn Canning says he had to rely on oxygen 24 hours a day before he had the operation.6 hrs ago\n",
      "My 'incel' attackers keep an online tally of their victimsSolo traveller Annie Makeeva fought off two attackers while hiking in Vietnam.7 hrs agoLondon\n",
      "The Kenyans saying no to motherhood and yes to sterilisationA growing number of women are choosing to be sterilised, bucking traditional norms.5 hrs agoAfrica\n",
      "Can Canadians get the world drinking tree sap?The largest producer of maple syrup now wants you to drink the sap, which it calls maple water.6 hrs agoUS & Canada\n",
      "Double lung transplant means couple can dance againJohn Canning says he had to rely on oxygen 24 hours a day before he had the operation.6 hrs ago\n",
      "Is the downfall of a Japanese star a turning point for women's rights?The downfall of Masahiro Nakai is a marked departure from how Japan treats claims of sexual violence.6 hrs agoAsia\n",
      "Why a mega river-linking plan has sparked massive protests in IndiaThe project aims to channel surplus Ken river water to a drought-prone region.4 hrs agoAsia\n",
      "My 'incel' attackers keep an online tally of their victimsSolo traveller Annie Makeeva fought off two attackers while hiking in Vietnam.7 hrs agoLondon\n",
      "1Watch: A real-life flying car takes to the skies\n",
      "2'You talking to me?' - Trump argues with reporter\n",
      "3Leanne Lucas describes desperately helping children despite being stabbed five times\n",
      "4AfD is 'absolutely delighted' - BBC reports from the party's HQ\n",
      "5CDU's Friedrich Merz thanks voters as he is greeted with cheers\n",
      "1Germany's conservatives celebrate, but far right enjoy record result\n",
      "2Three years on, Ukraine's extinction nightmare has returned\n",
      "3British couple in their 70s arrested by Taliban\n",
      "4NZ minister resigns after he 'placed hand' on staff's arm\n",
      "5Zelensky willing to give up presidency in exchange for Nato membership\n",
      "6Is the downfall of a Japanese star a turning point for women's rights?\n",
      "7The unseen map that promised to bring peace to the Middle East\n",
      "8Key US agencies tell staff not to answer Musk email on what they did last week\n",
      "9Why a mega river-linking plan has sparked massive protests in India\n",
      "10Trump names right-wing commentator Dan Bongino as deputy FBI director\n",
      "Key US agencies tell staff not to answer Musk email on what they did last weekSome departments encouraged staff to respond, while others requested employees wait for further guidance.4 hrs agoUS & Canada\n",
      "India bans two opioids behind crisis in West AfricaThe moves come after a BBC investigation found a firm had been illegally exporting the drugs.22 hrs agoWorld\n",
      "Shiffrin becomes first skier to win 100 World Cup titlesMikaela Shiffrin claims a historic 100th Alpine skiing World Cup win with victory in the slalom in the Italian resort of Sestriere.16 hrs agoWinter Sports\n",
      "One dead and police hurt in knife attack in FrancePresident Emmanuel Macron said there was \"no doubt it was an Islamist terrorist attack\".24 hrs agoEurope\n",
      "Archaeologists may have found pharaoh's second tombThe potential find comes just days after the announcement of the discovery of King Thutmose II's tomb.1 day agoWorld\n",
      "India bans two opioids behind crisis in West AfricaThe moves come after a BBC investigation found a firm had been illegally exporting the drugs.22 hrs agoWorld\n",
      "Israel expels residents of three West Bank refugee campsIsrael's defence minister says the camps are now \"empty\" and would be occupied by the Israeli military.17 hrs agoMiddle East\n",
      "Watch: A real-life flying car takes to the skiesFrom science-fiction to the real world, flying cars are here - but could the concept actually take off?1 day agoTechnology\n",
      "Shiffrin becomes first skier to win 100 World Cup titlesMikaela Shiffrin claims a historic 100th Alpine skiing World Cup win with victory in the slalom in the Italian resort of Sestriere.16 hrs agoWinter Sports\n",
      "'Let's call it now - the title race is over, Liverpool will be champions'Football can be strange and unpredictable, writes Phil McNulty, but make no mistake - the Premier League title is Liverpool's.9 hrs agoLiverpool\n",
      "Kohli guides India to comfortable win over PakistanVirat Kohli hits an unbeaten century as India beat Pakistan by five wickets in the Champions Trophy.14 hrs agoCricket\n",
      "'What he's done is amazing' - Isak reaches landmark to join elite listNewcastle United striker Alexander Isak becomes the seventh-fastest player to reach 50 Premier League goals.10 hrs agoNewcastle\n",
      "Guardiola sees 'bright future' for Man CityPep Guardiola says he sees a \"bright future\" for his Manchester City side, despite Sunday's 2-0 defeat by Liverpool.9 hrs agoMan City\n",
      "Who has made Troy's Premier League team of the week?After every round of Premier League matches this season, Troy Deeney gives you his team of the week. Do you agree with his choices?11 hrs agoPremier League\n",
      "Kohli guides India to comfortable win over PakistanVirat Kohli hits an unbeaten century as India beat Pakistan by five wickets in the Champions Trophy.14 hrs agoCricket\n",
      "Rangers sack Clement following loss to St MirrenRangers sack manager Philippe Clement the day after a home loss to St Mirren left them 13 points behind Premiership leaders Celtic.10 hrs agoRangers\n",
      "France hammer Italy to keep Six Nations title hopes aliveFrance score 11 tries to thrash Italy in a high-scoring contest to set up a potential Six Nations decider with Grand Slam-chasing Ireland.13 hrs agoRugby Union\n",
      "'What he's done is amazing' - Isak reaches landmark to join elite listNewcastle United striker Alexander Isak becomes the seventh-fastest player to reach 50 Premier League goals.10 hrs agoNewcastle\n",
      "British Broadcasting Corporation\n"
     ]
    }
   ],
   "source": [
    "url='https://www.bbc.com/news'\n",
    "headers={\n",
    "    'User-Agent': 'Mozilla/5.0 (Windows NT 10.0; Win64; x64) AppleWebKit/537.36 (KHTML, like Gecko) Chrome/125.0.0.0 Safari/537.36'\n",
    "}\n",
    "response=requests.get(url,headers=headers)\n",
    "if response.status_code==200:\n",
    "    soup=BeautifulSoup(response.content,'html.parser')\n",
    "    headlines=soup.find_all('a',class_=\"sc-2e6baa30-0 gILusN\")\n",
    "    print(\"Latest news of BBC News Headlines:\")\n",
    "    for headlines in headlines:\n",
    "        print(headlines.text.strip())\n",
    "else:\n",
    "    print(f\"Error fetching the data:{response.status_code}\")"
   ]
  },
  {
   "cell_type": "code",
   "execution_count": null,
   "metadata": {},
   "outputs": [],
   "source": []
  }
 ],
 "metadata": {
  "kernelspec": {
   "display_name": "Python 3",
   "language": "python",
   "name": "python3"
  },
  "language_info": {
   "codemirror_mode": {
    "name": "ipython",
    "version": 3
   },
   "file_extension": ".py",
   "mimetype": "text/x-python",
   "name": "python",
   "nbconvert_exporter": "python",
   "pygments_lexer": "ipython3",
   "version": "3.12.7"
  }
 },
 "nbformat": 4,
 "nbformat_minor": 2
}
