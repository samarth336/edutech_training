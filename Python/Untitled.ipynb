{
 "cells": [
  {
   "cell_type": "code",
   "execution_count": 30,
   "id": "78c00f56-e004-489c-a41e-e906725a8ddf",
   "metadata": {},
   "outputs": [
    {
     "name": "stdout",
     "output_type": "stream",
     "text": [
      "Tail\n",
      "Head\n",
      "Tail\n",
      "Head\n",
      "Tail\n",
      "Tail\n",
      "Head\n",
      "Tail\n",
      "Tail\n",
      "Head\n",
      "Heads:4 and Tail:6\n"
     ]
    }
   ],
   "source": [
    "import random\n",
    "c=0\n",
    "for _ in range(10):\n",
    "    toss=random.randint(0,1)\n",
    "    result=\"Tail\" if toss else \"Head\"\n",
    "    if toss:\n",
    "        c+=1\n",
    "    print(result)\n",
    "print(f\"Heads:{10-c} and Tail:{c}\")"
   ]
  },
  {
   "cell_type": "code",
   "execution_count": 44,
   "id": "16b020e8-19b1-4e08-ba26-fa1dc476aaac",
   "metadata": {},
   "outputs": [
    {
     "name": "stdin",
     "output_type": "stream",
     "text": [
      "Enter three number1: 1,2,3\n"
     ]
    },
    {
     "name": "stdout",
     "output_type": "stream",
     "text": [
      "Sum: 6\n"
     ]
    }
   ],
   "source": [
    "a,b,c=eval(input(\"Enter three numbers:\"))\n",
    "if a!=b and b!=c and c!=a:\n",
    "    print(\"Sum:\",a+b+c)\n",
    "else:\n",
    "    if a==b:\n",
    "        print(c)\n",
    "    elif a==c:\n",
    "        print(b)\n",
    "    else:\n",
    "        print(a)"
   ]
  },
  {
   "cell_type": "code",
   "execution_count": 84,
   "id": "24d3f07d-f82b-46b0-927a-08c31dec0d20",
   "metadata": {},
   "outputs": [
    {
     "name": "stdout",
     "output_type": "stream",
     "text": [
      "Aditya is going to pay bill.\n"
     ]
    }
   ],
   "source": [
    "import random\n",
    "names=[\"Samarth\",\"Devashri\",\"Sanika\",\"Dhaneshwari\",\"Yogiraj\",\"Aditya\"]\n",
    "a=random.randint(0,len(names)-1)\n",
    "print(f\"{names[a]} is going to pay bill.\")"
   ]
  },
  {
   "cell_type": "code",
   "execution_count": 93,
   "id": "2ebf3a68-bbe5-4f62-9a5a-12da0c5cc01a",
   "metadata": {},
   "outputs": [
    {
     "name": "stdin",
     "output_type": "stream",
     "text": [
      "Enter the number of persons in your group (use ',' to write names): Samarth,Devashri,Sanika,Dhaneshwari\n"
     ]
    },
    {
     "name": "stdout",
     "output_type": "stream",
     "text": [
      "Sanika is going to pay bill.\n"
     ]
    }
   ],
   "source": [
    "import random\n",
    "names=input(\"\"\"Enter the number of persons in your group (use ',' to write names):\"\"\").split(\",\")\n",
    "a=random.randint(0,len(names)-1)\n",
    "print(f\"{names[a]} is going to pay bill.\")"
   ]
  },
  {
   "cell_type": "code",
   "execution_count": null,
   "id": "3646fec3-d60a-4c73-b6af-dcfe305c06d3",
   "metadata": {},
   "outputs": [],
   "source": []
  },
  {
   "cell_type": "code",
   "execution_count": null,
   "id": "0c172944-c679-49e1-884e-c71e515e4d73",
   "metadata": {},
   "outputs": [],
   "source": [
    "#Rock Paper Scissors game"
   ]
  },
  {
   "cell_type": "code",
   "execution_count": 100,
   "id": "0c6566b6-3620-4a8b-8d46-e5e936c3a501",
   "metadata": {},
   "outputs": [
    {
     "name": "stdout",
     "output_type": "stream",
     "text": [
      "use Rock=0, Paper=1, Scissor=2 and use 3 for Stop\n"
     ]
    },
    {
     "name": "stdin",
     "output_type": "stream",
     "text": [
      "Enter your choice: 2\n"
     ]
    },
    {
     "name": "stdout",
     "output_type": "stream",
     "text": [
      "You Won!  (Your choice:Scissor and com choice:Paper)\n"
     ]
    },
    {
     "name": "stdin",
     "output_type": "stream",
     "text": [
      "Enter your choice: 3\n"
     ]
    },
    {
     "name": "stdout",
     "output_type": "stream",
     "text": [
      "Thank You!\n"
     ]
    }
   ],
   "source": [
    "## import random\n",
    "com=random.randint(0,2)\n",
    "arr=[\"Rock\",\"Paper\",\"Scissor\"]\n",
    "print(\"use Rock=0, Paper=1, Scissor=2 and use 3 for \")\n",
    "\n",
    "while True:\n",
    "    user=int(input(\"Enter your choice:\"))\n",
    "    if user==3:\n",
    "        print(\"Thank You!\")\n",
    "        break\n",
    "    if user>2:\n",
    "        print(\"choose valid number!\")\n",
    "    if user==0 and com==2:\n",
    "        print(f\"You Won!  (Your choice:{arr[user]} and com choice:{arr[com]})\")\n",
    "    elif user==0 and com==1:\n",
    "        print(f\"You Lost!  (Your choice:{arr[user]} and com choice:{arr[com]})\")\n",
    "    elif user==0 and com==0:\n",
    "        print(f\"Game Tie!  (Your choice:{arr[user]} and com choice:{arr[com]})\")\n",
    "    elif user==1 and com==0:\n",
    "        print(f\"You Won!  (Your choice:{arr[user]} and com choice:{arr[com]})\")\n",
    "    elif user==1 and com==2:\n",
    "        print(f\"You Lost!  (Your choice:{arr[user]} and com choice:{arr[com]})\")\n",
    "    elif user==1 and com==1:\n",
    "        print(f\"Game Tie!  (Your choice:{arr[user]} and com choice:{arr[com]})\")\n",
    "    elif user==2 and com==0:\n",
    "        print(f\"You Lost!  (Your choice:{arr[user]} and com choice:{arr[com]})\")\n",
    "    elif user==2 and com==1:\n",
    "        print(f\"You Won!  (Your choice:{arr[user]} and com choice:{arr[com]})\")\n",
    "    elif user==2 and com==2:\n",
    "        print(f\"Game Tie!  (Your choice:{arr[user]} and com choice:{arr[com]})\")"
   ]
  },
  {
   "cell_type": "raw",
   "id": "2d56b6b7-8bc8-4f24-a007-930bc1826f24",
   "metadata": {},
   "source": []
  },
  {
   "cell_type": "code",
   "execution_count": 111,
   "id": "b23b3141-9b18-4be3-b5bc-eccdee60546d",
   "metadata": {},
   "outputs": [
    {
     "name": "stdin",
     "output_type": "stream",
     "text": [
      "Enter your text: Samarth\n"
     ]
    },
    {
     "name": "stdout",
     "output_type": "stream",
     "text": [
      "sAMARTH\n"
     ]
    }
   ],
   "source": [
    "user=input(\"Enter your text:\")\n",
    "new=\"\"\n",
    "for i in user:\n",
    "    if i.isupper():\n",
    "        new=new+i.lower()\n",
    "    else:\n",
    "        new=new+i.upper()\n",
    "print(new)"
   ]
  },
  {
   "cell_type": "code",
   "execution_count": 112,
   "id": "57e49400-1c6b-4f36-a63e-91578dab0a8f",
   "metadata": {},
   "outputs": [
    {
     "name": "stdout",
     "output_type": "stream",
     "text": [
      "2550\n"
     ]
    }
   ],
   "source": [
    "sum=0\n",
    "for i in range(1,101):\n",
    "    if i%2==0:\n",
    "        sum+=i\n",
    "print(sum)"
   ]
  },
  {
   "cell_type": "code",
   "execution_count": 5,
   "id": "cdf3a755-0933-4911-a861-9a8855aa659d",
   "metadata": {},
   "outputs": [
    {
     "name": "stdin",
     "output_type": "stream",
     "text": [
      "Enter length of password: 9\n"
     ]
    },
    {
     "ename": "NameError",
     "evalue": "name 'a' is not defined",
     "output_type": "error",
     "traceback": [
      "\u001b[1;31m---------------------------------------------------------------------------\u001b[0m",
      "\u001b[1;31mNameError\u001b[0m                                 Traceback (most recent call last)",
      "Cell \u001b[1;32mIn[5], line 5\u001b[0m\n\u001b[0;32m      3\u001b[0m password\u001b[38;5;241m=\u001b[39m\u001b[38;5;124m\"\u001b[39m\u001b[38;5;124m\"\u001b[39m\n\u001b[0;32m      4\u001b[0m \u001b[38;5;28;01mfor\u001b[39;00m i \u001b[38;5;129;01min\u001b[39;00m \u001b[38;5;28mrange\u001b[39m(length):\n\u001b[1;32m----> 5\u001b[0m     password\u001b[38;5;241m=\u001b[39mpassword\u001b[38;5;241m+\u001b[39m\u001b[38;5;28mstr\u001b[39m(random\u001b[38;5;241m.\u001b[39mrandint(\u001b[43ma\u001b[49m,z))\n\u001b[0;32m      6\u001b[0m \u001b[38;5;28mprint\u001b[39m(password)\n",
      "\u001b[1;31mNameError\u001b[0m: name 'a' is not defined"
     ]
    }
   ],
   "source": [
    "import random\n",
    "length=int(input(\"Enter length of password:\"))\n",
    "password=\"\"\n",
    "for i in range(length):\n",
    "    password=password+str(random.randint(a,z))\n",
    "print(password)\n"
   ]
  },
  {
   "cell_type": "code",
   "execution_count": null,
   "id": "396c7923-baf6-4b02-9473-02c696a7fc3f",
   "metadata": {},
   "outputs": [],
   "source": []
  },
  {
   "cell_type": "code",
   "execution_count": 6,
   "id": "a44a6420-36d0-4e22-85ec-62e49f571289",
   "metadata": {},
   "outputs": [
    {
     "name": "stdin",
     "output_type": "stream",
     "text": [
      "Enter password length:  12\n"
     ]
    },
    {
     "name": "stdout",
     "output_type": "stream",
     "text": [
      "Generated Password: R9ml7WZ4f7EY\n"
     ]
    }
   ],
   "source": [
    "import random\n",
    "import string\n",
    "\n",
    "length = int(input(\"Enter password length: \"))\n",
    "password = ''.join(random.choices(string.ascii_letters + string.digits, k=length))\n",
    "print(\"Generated Password:\", password)\n"
   ]
  },
  {
   "cell_type": "code",
   "execution_count": 7,
   "id": "be9afd0c-0823-43ec-a1c4-345d7125bac0",
   "metadata": {},
   "outputs": [
    {
     "name": "stdout",
     "output_type": "stream",
     "text": [
      "a\n",
      "b\n",
      "c\n"
     ]
    }
   ],
   "source": [
    "d={\n",
    "    \"a\":5,\n",
    "    \"b\":8,\n",
    "    \"c\":7\n",
    "}\n",
    "\n",
    "for i in d:\n",
    "    print(i)"
   ]
  }
 ],
 "metadata": {
  "kernelspec": {
   "display_name": "Python 3 (ipykernel)",
   "language": "python",
   "name": "python3"
  },
  "language_info": {
   "codemirror_mode": {
    "name": "ipython",
    "version": 3
   },
   "file_extension": ".py",
   "mimetype": "text/x-python",
   "name": "python",
   "nbconvert_exporter": "python",
   "pygments_lexer": "ipython3",
   "version": "3.12.4"
  }
 },
 "nbformat": 4,
 "nbformat_minor": 5
}
